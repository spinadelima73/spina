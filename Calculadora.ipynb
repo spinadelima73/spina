{
  "nbformat": 4,
  "nbformat_minor": 0,
  "metadata": {
    "colab": {
      "provenance": [],
      "collapsed_sections": [],
      "authorship_tag": "ABX9TyMb7FASr5/lkyltZfvcL6IS",
      "include_colab_link": true
    },
    "kernelspec": {
      "name": "python3",
      "display_name": "Python 3"
    },
    "language_info": {
      "name": "python"
    }
  },
  "cells": [
    {
      "cell_type": "markdown",
      "metadata": {
        "id": "view-in-github",
        "colab_type": "text"
      },
      "source": [
        "<a href=\"https://colab.research.google.com/github/spinadelima73/spina/blob/main/Calculadora.ipynb\" target=\"_parent\"><img src=\"https://colab.research.google.com/assets/colab-badge.svg\" alt=\"Open In Colab\"/></a>"
      ]
    },
    {
      "cell_type": "code",
      "execution_count": null,
      "metadata": {
        "colab": {
          "base_uri": "https://localhost:8080/"
        },
        "id": "NX85ul237Yeb",
        "outputId": "c0535a9b-9ed5-4c53-96e4-faed5577bbce"
      },
      "outputs": [
        {
          "output_type": "stream",
          "name": "stdout",
          "text": [
            "#################### Calculadora de 5 Operações  ####################\n",
            "\n",
            "Digite uma operação : soma\n",
            "Digite um número: 2\n",
            "Digite um número: 2\n",
            "####################################################################################################\n",
            "\n",
            "############################################### soma ###############################################\n",
            "\n",
            "####################################################################################################\n",
            "####################################################################################################\n",
            "\n",
            "O valor da soma 2.0 e 2.0 será = 4.0 \n",
            "\n",
            "####################################################################################################\n",
            "\n",
            "Fim da rotina Soma\n",
            "\n",
            "Fim da Operação\n"
          ]
        }
      ],
      "source": [
        "# Programa de Calculadora de 5 operações\n",
        "\n",
        "def txt(op):\n",
        "  print('#'*100)\n",
        "  print('')\n",
        "  print('#'*int((99-qtd)*0.5),op,'#'*int((98-qtd)*0.5))\n",
        "  print('')\n",
        "  print('#'*100)\n",
        "  \n",
        "  \n",
        "def som(n1,n2,op):\n",
        "  print('#'*100)\n",
        "  print('')\n",
        "  print('O valor da soma {} e {} será = {} '.format (n1, n2, (n1+n2)))\n",
        "  print('')\n",
        "  print('#'*100)\n",
        "  print('')\n",
        "  print('Fim da rotina Soma')\n",
        "\n",
        "def sub (n1,n2,op):\n",
        "  print('#'*100)\n",
        "  print('')\n",
        "  print('O valor da subtração {} e {} será = {} '.format (n1, n2, (n1-n2)))\n",
        "  print('')\n",
        "  print('#'*100)\n",
        "  print('')\n",
        "  print('Fim da rotina Subtração')\n",
        "\n",
        "def mult (n1,n2,op):\n",
        "  print('#'*100)\n",
        "  print('')\n",
        "  print('O valor da Multiplicação {} e {} será = {} '.format (n1, n2, (n1*n2)))\n",
        "  print('')\n",
        "  print('#'*100)\n",
        "  print('')\n",
        "  print('Fim da rotina Multiplicação')\n",
        "\n",
        "def div(n1,n2,op):\n",
        "  print('#'*100)\n",
        "  print('')\n",
        "  print('O valor da Divisão {} e {} será = {:.3f} '.format (n1, n2, (n1/n2)))\n",
        "  print('')\n",
        "  print('#'*100)\n",
        "  print('')\n",
        "  print('Fim da rotina Divisão')\n",
        "\n",
        "def pot (n1,n2,op):\n",
        "  print('#'*100)\n",
        "  print('')\n",
        "  print('O valor da potenciação {} e {} será = {:.3f} '.format (n1, n2, (n1**n2)))\n",
        "  print('')\n",
        "  print('#'*100)\n",
        "  print('')\n",
        "  print('Fim da rotina Potenciação')\n",
        "    \n",
        "# Programa Principal\n",
        "print('#'*20,'Calculadora de 5 Operações ',\"#\"*20)\n",
        "print('')\n",
        "op= str(input('Digite uma operação : '))\n",
        "qtd=len(op)\n",
        "n1= float(input('Digite um número: '))\n",
        "n2= float(input('Digite um número: '))\n",
        "\n",
        "if op == 'soma' or op=='Soma' or op=='SOMA':\n",
        "  txt (op)\n",
        "  som(n1,n2,op)\n",
        "\n",
        "elif op=='subtração' or op=='Subtração' or op=='SUBTRAÇÃO':\n",
        "  txt (op)\n",
        "  sub(n1,n2,op)\n",
        "\n",
        "elif op=='multiplicação' or op== 'Multiplicação' or op=='MULTILICAÇÃO':\n",
        "  txt (op)\n",
        "  mult(n1,n2,op)\n",
        "\n",
        "elif op=='divisão' or op=='Divisão' or op=='DIVISÃO':\n",
        "  txt (op)\n",
        "  div(n1,n2,op)\n",
        "  \n",
        "elif op=='Potenciação' or op=='potenciação' or op=='POTENCIAÇÃO':\n",
        "  txt (op)\n",
        "  pot(n1,n2,op)\n",
        "\n",
        "else:\n",
        "  print('#'*100)\n",
        "  print('Não é possível realizar este cálculo')\n",
        "  print('#'*100)\n",
        "print ( )\n",
        "print('Fim da Operação')"
      ]
    }
  ]
}